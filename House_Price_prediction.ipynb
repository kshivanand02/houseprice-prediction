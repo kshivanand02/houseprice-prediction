{
  "nbformat": 4,
  "nbformat_minor": 0,
  "metadata": {
    "colab": {
      "provenance": []
    },
    "kernelspec": {
      "name": "python3",
      "display_name": "Python 3"
    },
    "language_info": {
      "name": "python"
    }
  },
  "cells": [
    {
      "cell_type": "code",
      "execution_count": 1,
      "metadata": {
        "colab": {
          "base_uri": "https://localhost:8080/"
        },
        "id": "AwoR00yubI0U",
        "outputId": "21bd04f0-5192-43b3-d523-4d8b6f73c496"
      },
      "outputs": [
        {
          "output_type": "stream",
          "name": "stdout",
          "text": [
            "Initial DataFrame:\n",
            "   size  bedrooms     location   price\n",
            "0  1500         3       Suburb  300000\n",
            "1  2000         4  City Center  500000\n",
            "2  1200         2       Suburb  250000\n",
            "3  1800         3  City Center  450000\n",
            "4  1600         3       Suburb  320000\n",
            "\n",
            "Model Evaluation:\n",
            "Mean Absolute Error: 2721.5189873420168\n",
            "\n",
            "Price Predictions for New Data:\n",
            "House 1 price prediction: $347,088.61\n",
            "House 2 price prediction: $614,936.71\n"
          ]
        }
      ],
      "source": [
        "import pandas as pd\n",
        "from sklearn.model_selection import train_test_split\n",
        "from sklearn.linear_model import LinearRegression\n",
        "from sklearn.metrics import mean_absolute_error\n",
        "\n",
        "# Create a DataFrame with sample house price data\n",
        "data_dict = {\n",
        "    'size': [1500, 2000, 1200, 1800, 1600, 2200, 1400, 2400],\n",
        "    'bedrooms': [3, 4, 2, 3, 3, 4, 2, 4],\n",
        "    'location': ['Suburb', 'City Center', 'Suburb', 'City Center', 'Suburb', 'City Center', 'Suburb', 'City Center'],\n",
        "    'price': [300000, 500000, 250000, 450000, 320000, 550000, 270000, 600000]\n",
        "}\n",
        "\n",
        "# Convert the dictionary to a DataFrame\n",
        "data = pd.DataFrame(data_dict)\n",
        "\n",
        "# Display the first few rows of the DataFrame\n",
        "print(\"Initial DataFrame:\")\n",
        "print(data.head())\n",
        "\n",
        "# Encode categorical data (e.g., location) as numerical values\n",
        "data['location'] = data['location'].astype('category').cat.codes\n",
        "\n",
        "# Define features and target variable\n",
        "X = data[['size', 'bedrooms', 'location']]\n",
        "y = data['price']\n",
        "\n",
        "# Split data into training and test sets\n",
        "X_train, X_test, y_train, y_test = train_test_split(X, y, test_size=0.2, random_state=42)\n",
        "\n",
        "# Create and train the model\n",
        "model = LinearRegression()\n",
        "model.fit(X_train, y_train)\n",
        "\n",
        "# Make predictions\n",
        "y_pred = model.predict(X_test)\n",
        "\n",
        "# Evaluate the model\n",
        "mae = mean_absolute_error(y_test, y_pred)\n",
        "\n",
        "print(\"\\nModel Evaluation:\")\n",
        "print(f'Mean Absolute Error: {mae}')\n",
        "\n",
        "# Predicting house prices for new data\n",
        "new_data = pd.DataFrame({\n",
        "    'size': [1700, 2500],\n",
        "    'bedrooms': [3, 4],\n",
        "    'location': ['Suburb', 'City Center']\n",
        "})\n",
        "\n",
        "# Encode the new data\n",
        "new_data['location'] = new_data['location'].astype('category').cat.codes\n",
        "\n",
        "# Predict house prices\n",
        "price_predictions = model.predict(new_data)\n",
        "\n",
        "print(\"\\nPrice Predictions for New Data:\")\n",
        "for i, price in enumerate(price_predictions):\n",
        "    print(f'House {i+1} price prediction: ${price:,.2f}')\n"
      ]
    }
  ]
}